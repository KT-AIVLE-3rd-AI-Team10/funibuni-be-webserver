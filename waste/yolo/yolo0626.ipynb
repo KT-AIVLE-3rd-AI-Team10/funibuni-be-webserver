{
 "cells": [
  {
   "attachments": {},
   "cell_type": "markdown",
   "metadata": {},
   "source": [
    "## 버전으로 불러오기"
   ]
  },
  {
   "cell_type": "code",
   "execution_count": 1,
   "metadata": {},
   "outputs": [],
   "source": [
    "import mlflow\n",
    "from mlflow.tracking import MlflowClient\n",
    "from mlflow.tracking.artifact_utils import _download_artifact_from_uri\n",
    "#import ultralytics\n",
    "#from ultralytics import YOLO\n",
    "\n",
    "mlflow_uri = \"http://13.124.68.167:5000/\"\n",
    "mlflow.set_tracking_uri(mlflow_uri)\n",
    "\n",
    "# MLflow 클라이언트 생성\n",
    "client = MlflowClient()\n",
    "\n",
    "# 모델 이름과 버전 지정\n",
    "model_name = \"yolo_main_category\"\n",
    "model_version = 9\n",
    "\n",
    "# 모델의 다운로드 URI 가져오기\n",
    "source_uri = client.get_model_version_download_uri(model_name, model_version)\n",
    "print(source_uri)\n",
    "\n",
    "# 다운로드 URI를 사용하여 모델 다운로드\n",
    "artifact = _download_artifact_from_uri(\n",
    "    artifact_uri=source_uri,\n",
    "    output_path=\"../yolo\"  # 저장할 경로 지정\n",
    ")\n"
   ]
  },
  {
   "attachments": {},
   "cell_type": "markdown",
   "metadata": {},
   "source": [
    "## 스테이지로 불러오기"
   ]
  },
  {
   "cell_type": "code",
   "execution_count": 6,
   "metadata": {},
   "outputs": [
    {
     "name": "stdout",
     "output_type": "stream",
     "text": [
      "mlflow-artifacts:/5/985f33a245c84a509836aa98b1761063/artifacts/best_model\n"
     ]
    }
   ],
   "source": [
    "import mlflow\n",
    "from mlflow.tracking import MlflowClient\n",
    "from mlflow.tracking.artifact_utils import _download_artifact_from_uri\n",
    "import shutil\n",
    "\n",
    "#기존 모델 삭제\n",
    "#shutil.rmtree('C:/Users/User/Desktop/aivle/6m/bigproject/backend/aivle-ai-team10-be-webserver/waste/yolo/best_model')\n",
    "\n",
    "mlflow_uri = \"http://13.124.68.167:5000/\"\n",
    "mlflow.set_tracking_uri(mlflow_uri)\n",
    "\n",
    "# MLflow 클라이언트 생성\n",
    "client = MlflowClient()\n",
    "\n",
    "# 모델 이름과 알리아스(여기서는 \"production\")를 사용하여 모델의 최신 버전 정보를 가져옴\n",
    "model_name = \"yolo_main_category\"\n",
    "latest_version_info = client.get_latest_versions(model_name, stages=[\"production\"])\n",
    "\n",
    "# 최신 버전의 소스(artifact) URI를 가져옴\n",
    "if latest_version_info:\n",
    "    source_uri = latest_version_info[0].source\n",
    "    print(source_uri)\n",
    "    # source_uri를 사용하여 특정 아티팩트를 다운로드\n",
    "    #artifact_path = \"/best_model/best.pt\"\n",
    "    artifact = _download_artifact_from_uri(\n",
    "        artifact_uri=source_uri,\n",
    "        output_path= \"../yolo\" #artifact_path\n",
    "    )\n",
    "\n",
    "    # `artifact` 변수에는 다운로드된 파일의 로컬 경로가 있습니다.\n",
    "else:\n",
    "    print(\"No model found\")"
   ]
  },
  {
   "cell_type": "code",
   "execution_count": null,
   "metadata": {},
   "outputs": [],
   "source": []
  }
 ],
 "metadata": {
  "kernelspec": {
   "display_name": "world",
   "language": "python",
   "name": "python3"
  },
  "language_info": {
   "codemirror_mode": {
    "name": "ipython",
    "version": 3
   },
   "file_extension": ".py",
   "mimetype": "text/x-python",
   "name": "python",
   "nbconvert_exporter": "python",
   "pygments_lexer": "ipython3",
   "version": "3.10.11"
  },
  "orig_nbformat": 4
 },
 "nbformat": 4,
 "nbformat_minor": 2
}
