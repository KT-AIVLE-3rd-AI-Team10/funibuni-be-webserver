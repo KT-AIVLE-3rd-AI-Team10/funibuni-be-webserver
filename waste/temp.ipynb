{
 "cells": [
  {
   "cell_type": "code",
   "execution_count": 40,
   "metadata": {},
   "outputs": [
    {
     "name": "stdout",
     "output_type": "stream",
     "text": [
      "0 0.69 {0}\n",
      "9 0.45 {0, 9}\n",
      "9 0.13 {0, 9}\n"
     ]
    }
   ],
   "source": [
    "import os\n",
    "handled_labels = set()\n",
    "results = []\n",
    "directory_path = \"runs/detect/predict/labels/\"\n",
    "for filename in os.listdir(directory_path): \n",
    "    if filename.endswith(\".txt\"):\n",
    "        with open(os.path.join(directory_path, filename), 'r') as file:\n",
    "            lines = file.readlines()  # 파일의 모든 라인을 읽기\n",
    "            for line in lines:\n",
    "                numbers = line.split()  # 라인을 공백을 기준으로 분리하여 숫자 리스트 생성\n",
    "                label = int(numbers[0])  # 리스트의 첫번째 숫자 추출\n",
    "                probability = round(float(numbers[-1]),2)  # 리스트의 마지막 숫자 추출\n",
    "                \n",
    "                if label in handled_labels:\n",
    "                    continue\n",
    "                handled_labels.add(label)\n",
    "                print(label, probability, handled_labels)\n",
    "                result_dict= {\n",
    "                                \"large-category\": {\n",
    "                                    \"index_large_category\" : label,\n",
    "                                    \"probability\" : probability\n",
    "                                },\n",
    "                                \"small-category\": []\n",
    "                                }\n",
    "                results.append(result_dict)\n",
    "                \n",
    "first_label = list(handled_labels)[0]"
   ]
  },
  {
   "cell_type": "code",
   "execution_count": 41,
   "metadata": {},
   "outputs": [
    {
     "data": {
      "text/plain": [
       "[{'large-category': {'index_large_category': 0, 'probability': 0.69},\n",
       "  'small-category': []},\n",
       " {'large-category': {'index_large_category': 9, 'probability': 0.45},\n",
       "  'small-category': []},\n",
       " {'large-category': {'index_large_category': 9, 'probability': 0.13},\n",
       "  'small-category': []}]"
      ]
     },
     "execution_count": 41,
     "metadata": {},
     "output_type": "execute_result"
    }
   ],
   "source": [
    "results"
   ]
  },
  {
   "cell_type": "code",
   "execution_count": 36,
   "metadata": {},
   "outputs": [],
   "source": [
    "results[0][\"small-category\"] = {\"index_small_category\" : 0,\n",
    "                                \"probability\" : 0.1\n",
    "                                }"
   ]
  },
  {
   "cell_type": "code",
   "execution_count": 37,
   "metadata": {},
   "outputs": [
    {
     "data": {
      "text/plain": [
       "[{'large-category': {'index_large_category': 0, 'probability': 0.69},\n",
       "  'small-category': {'index_small_category': 0, 'probability': 0.1}},\n",
       " {'large-category': {'index_large_category': 9, 'probability': 0.45},\n",
       "  'small-category': []}]"
      ]
     },
     "execution_count": 37,
     "metadata": {},
     "output_type": "execute_result"
    }
   ],
   "source": [
    "results"
   ]
  },
  {
   "cell_type": "code",
   "execution_count": null,
   "metadata": {},
   "outputs": [],
   "source": []
  }
 ],
 "metadata": {
  "kernelspec": {
   "display_name": "world",
   "language": "python",
   "name": "python3"
  },
  "language_info": {
   "codemirror_mode": {
    "name": "ipython",
    "version": 3
   },
   "file_extension": ".py",
   "mimetype": "text/x-python",
   "name": "python",
   "nbconvert_exporter": "python",
   "pygments_lexer": "ipython3",
   "version": "3.10.11"
  },
  "orig_nbformat": 4
 },
 "nbformat": 4,
 "nbformat_minor": 2
}
