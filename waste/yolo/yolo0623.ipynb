{
 "cells": [
  {
   "cell_type": "code",
   "execution_count": 4,
   "metadata": {},
   "outputs": [],
   "source": [
    "import mlflow\n",
    "from mlflow.tracking import MlflowClient\n",
    "from mlflow.tracking.artifact_utils import _download_artifact_from_uri\n",
    "import ultralytics\n",
    "from ultralytics import YOLO\n",
    "\n",
    "mlflow_uri = \"http://13.124.68.167:5000/\"\n",
    "mlflow.set_tracking_uri(mlflow_uri)\n",
    "\n",
    "# MLflow 클라이언트 생성\n",
    "client = MlflowClient()\n",
    "\n",
    "# 모델 이름과 버전 지정\n",
    "model_name = \"yolo_main_category\"\n",
    "model_version = 9\n",
    "            "
   ]
  },
  {
   "cell_type": "code",
   "execution_count": 6,
   "metadata": {},
   "outputs": [
    {
     "name": "stdout",
     "output_type": "stream",
     "text": [
      "mlflow-artifacts:/4/76183807d482458484bcea80d267f23f/artifacts/best_model\n"
     ]
    }
   ],
   "source": [
    "# 모델의 다운로드 URI 가져오기\n",
    "source_uri = client.get_model_version_download_uri(model_name, model_version)\n",
    "print(source_uri)\n"
   ]
  },
  {
   "cell_type": "code",
   "execution_count": 7,
   "metadata": {},
   "outputs": [],
   "source": [
    "# 다운로드 URI를 사용하여 모델 다운로드\n",
    "artifact = _download_artifact_from_uri(\n",
    "    artifact_uri=source_uri,\n",
    "    output_path=\"\"  # 저장할 경로 지정\n",
    ")"
   ]
  }
 ],
 "metadata": {
  "kernelspec": {
   "display_name": "world",
   "language": "python",
   "name": "python3"
  },
  "language_info": {
   "codemirror_mode": {
    "name": "ipython",
    "version": 3
   },
   "file_extension": ".py",
   "mimetype": "text/x-python",
   "name": "python",
   "nbconvert_exporter": "python",
   "pygments_lexer": "ipython3",
   "version": "3.10.11"
  },
  "orig_nbformat": 4
 },
 "nbformat": 4,
 "nbformat_minor": 2
}
